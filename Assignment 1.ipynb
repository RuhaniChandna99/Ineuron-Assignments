{
 "cells": [
  {
   "cell_type": "markdown",
   "id": "afd5e264",
   "metadata": {},
   "source": [
    "# Assignment 1"
   ]
  },
  {
   "cell_type": "markdown",
   "id": "89e4ea35",
   "metadata": {},
   "source": [
    "Question - 1"
   ]
  },
  {
   "cell_type": "markdown",
   "id": "2180e152",
   "metadata": {},
   "source": [
    "In the below elements which of them are values or an expression? eg:- values can be integer or string and expressions will be mathematical operators."
   ]
  },
  {
   "cell_type": "markdown",
   "id": "b9f7a40f",
   "metadata": {},
   "source": [
    "Answer - 1"
   ]
  },
  {
   "cell_type": "markdown",
   "id": "276037e0",
   "metadata": {},
   "source": [
    "#### *          - Mathematical operation\n",
    "#### 'hello'    - String\n",
    "#### -87.8      - float\n",
    "#### -          - Mathematical operation\n",
    "#### /          - Mathematical operation\n",
    "#### +\t       - Mathematical operation\n",
    "#### 6          - integer\n"
   ]
  },
  {
   "cell_type": "markdown",
   "id": "e1b9a463",
   "metadata": {},
   "source": [
    "Question - 2"
   ]
  },
  {
   "cell_type": "markdown",
   "id": "a5afbca8",
   "metadata": {},
   "source": [
    "What is the difference between string and variable?"
   ]
  },
  {
   "cell_type": "markdown",
   "id": "fcf2ab35",
   "metadata": {},
   "source": [
    "Answer - 2 "
   ]
  },
  {
   "cell_type": "markdown",
   "id": "2e9b3dde",
   "metadata": {},
   "source": [
    "Strings is a data type for a sequence of characters (e.g. ‘’Hello Word”). In addition to letters, they can also include numbers, spaces, punctuation, and even line breaks (using ‘\\n’ for new line). Strings cannot be used for calculation (even if your string is just a number like ‘5’), you would have to convert it to a number data type first to perform math operations on it.\n",
    "You, the programmer, define a string by putting single quotes (‘ ’) or double quotes (“ “) around whatever you want to classify as a string. The string data type is primarily used for reading and writing data.\n",
    "Variables are references that you create to refer to other values in your program later. An example of a value you might reference using a variable could be:\n",
    "“This is a really long string that no-one wants to have to re-type, ever, because it’s so laborious and frustrating to have to type out, it would be great to have a quick reference for this big, long string.”\n",
    "When writing a program, you can assign the value to a variable (e.g. my_string = “This is a really long string…”) so that you can refer to it later in your program just by typing my_string. Variables are also great for being able to refer values in that change in response to different events in your program."
   ]
  },
  {
   "cell_type": "markdown",
   "id": "c99d6805",
   "metadata": {},
   "source": [
    "Question - 3"
   ]
  },
  {
   "cell_type": "markdown",
   "id": "61c0639a",
   "metadata": {},
   "source": [
    "Describe three different data types."
   ]
  },
  {
   "cell_type": "markdown",
   "id": "c652c5c7",
   "metadata": {},
   "source": [
    "Answer - 3"
   ]
  },
  {
   "cell_type": "markdown",
   "id": "273d8566",
   "metadata": {},
   "source": [
    "#### The followings are the data types:\n",
    "Dictionary\n",
    "\n",
    "•\tDictionary is a type of python data type in which collections are unordered, and values are in pairs called key-value pairs. \n",
    "\n",
    "•\tThis type of data type is useful when there is a high volume of data. \n",
    "\n",
    "•\tOne of the best functions of Dictionaries data type is retrieving the data for which it is optimized. \n",
    "\n",
    "•\tThe value can only be retrieved if one knows the key to retrieve it. \n",
    "\n",
    "•\tBraces {} (curly brackets) are used to define dictionaries data type in Python. A Pair in the dictionary data type is an item which is represented as key:value. \n",
    "\n",
    "•\tThe value and the key can be of any data type.\n",
    "\n",
    "•\tPython Dictionary can look like this:\n",
    "                    >>> d = {3:’key’,4:’value’}\n",
    "\n",
    "Set\n",
    "\n",
    "•\tThe Collection of Unique items that are not in order is called Set. \n",
    "\n",
    "•\tBraces {} are used to defined set and a comma is used to separate values. \n",
    "\n",
    "•\tOne will find that the items are unordered in a set data type.\n",
    "\n",
    "•\tDuplicates are eliminated in a set and set only keeps unique values.\n",
    "\n",
    "•\t Operations like intersection and union can be performed on two sets. \n",
    "\n",
    "•\tPython set will look like this:\n",
    "                     >>> a = {4,5,5,6,6,6}\n",
    "                     >>> a \n",
    "                     {4, 5, 6}\n",
    "\n",
    "•\tThe slicing operator does not work on set because the set is not a collection of ordered items, and that is why there is no meaning to the indexing of set.\n",
    "\n",
    " List\n",
    "\n",
    "•\tAn ordered sequence of items is called List.\n",
    "\n",
    "•\t It is a very flexible data type in Python. \n",
    "\n",
    "•\tThere is no need for the value in the list to be of the same data type. \n",
    "\n",
    "•\tThe List is the data type that is highly used data type in Python. \n",
    "\n",
    "•\tList datatype is the most exclusive datatype in Python for containing versatile data.\n",
    "\n",
    "•\t It can easily hold different types of data in Python.  \n",
    "\n",
    "•\tIt is effortless to declare a list. \n",
    "\n",
    "•\tThe list is enclosed with brackets and commas are used to separate the items. \n",
    "\n",
    "•\tA list can look like this:\n",
    "                             >>> a = [5,9.9,’list’]\n",
    "\n",
    "•\tOne can also alter the value of an element in the list.\n",
    "\n",
    "Tuple\n",
    "\n",
    "•\tA Tuple is a sequence of items that are in order, and it is not possible to modify the Tuples. \n",
    "\n",
    "•\tThe main difference list and tuples are that tuple is immutable, which means it cannot be altered. \n",
    "\n",
    "•\tTuples are generally faster than the list data type in Python because it cannot be changed or modified like list datatype. \n",
    "\n",
    "•\tThe primary use of Tuples is to write-protect data.\n",
    "\n",
    "•\t Tuples can be represented by using parentheses (), and commas are used to separate the items. \n",
    "\n",
    "•\tTuples can look like this:\n",
    "                       >>> t = (6,’tuple’,4+2r)\n",
    "\n",
    "•\tIn the case of a tuple, one can use the slicing operator to extract the item, but it will not allow changing the value. \n"
   ]
  },
  {
   "cell_type": "markdown",
   "id": "cc9a87cf",
   "metadata": {},
   "source": [
    "Question - 4"
   ]
  },
  {
   "cell_type": "markdown",
   "id": "19fb0a45",
   "metadata": {},
   "source": [
    "What is an expression made up of? What do all expressions do?"
   ]
  },
  {
   "cell_type": "markdown",
   "id": "8f14a414",
   "metadata": {},
   "source": [
    "Answer - 4"
   ]
  },
  {
   "cell_type": "markdown",
   "id": "52a12a79",
   "metadata": {},
   "source": [
    "An expression is an instruction that combines values and operators and always evaluates down to a single value."
   ]
  },
  {
   "cell_type": "markdown",
   "id": "5694512d",
   "metadata": {},
   "source": [
    "Question - 5"
   ]
  },
  {
   "cell_type": "markdown",
   "id": "30ee4234",
   "metadata": {},
   "source": [
    "This assignment statements, like spam = 10. What is the difference between an expression and a statement?"
   ]
  },
  {
   "cell_type": "markdown",
   "id": "dd664a68",
   "metadata": {},
   "source": [
    "Answer - 5"
   ]
  },
  {
   "cell_type": "markdown",
   "id": "e99433d1",
   "metadata": {},
   "source": [
    "Expression is made up of values, containers, and mathematical operators(operands) and the statement is just like a command that a python interpreter executes like print."
   ]
  },
  {
   "cell_type": "markdown",
   "id": "14e67902",
   "metadata": {},
   "source": [
    "Question - 6"
   ]
  },
  {
   "cell_type": "markdown",
   "id": "ee940a6d",
   "metadata": {},
   "source": [
    "After running the following code, what does the variable bacon contain?\n",
    "\n",
    "bacon = 22\n",
    "\n",
    "bacon + 1"
   ]
  },
  {
   "cell_type": "markdown",
   "id": "556b73e5",
   "metadata": {},
   "source": [
    "Answer - 6"
   ]
  },
  {
   "cell_type": "markdown",
   "id": "baedca9f",
   "metadata": {},
   "source": [
    "22"
   ]
  },
  {
   "cell_type": "markdown",
   "id": "ff4037af",
   "metadata": {},
   "source": [
    "Question - 7"
   ]
  },
  {
   "cell_type": "markdown",
   "id": "7f1abcd6",
   "metadata": {},
   "source": [
    "What should the values of the following two terms be?"
   ]
  },
  {
   "cell_type": "markdown",
   "id": "fe237243",
   "metadata": {},
   "source": [
    "Answer - 7"
   ]
  },
  {
   "cell_type": "code",
   "execution_count": 9,
   "id": "d0f29e10",
   "metadata": {},
   "outputs": [
    {
     "data": {
      "text/plain": [
       "'spamspamspam'"
      ]
     },
     "execution_count": 9,
     "metadata": {},
     "output_type": "execute_result"
    }
   ],
   "source": [
    "'spam' + 'spamspam'  "
   ]
  },
  {
   "cell_type": "code",
   "execution_count": 10,
   "id": "38bfbadb",
   "metadata": {},
   "outputs": [
    {
     "data": {
      "text/plain": [
       "'spamspamspam'"
      ]
     },
     "execution_count": 10,
     "metadata": {},
     "output_type": "execute_result"
    }
   ],
   "source": [
    "'spam' * 3"
   ]
  },
  {
   "cell_type": "markdown",
   "id": "9f6a56c8",
   "metadata": {},
   "source": [
    "Question - 8"
   ]
  },
  {
   "cell_type": "markdown",
   "id": "dc7fd1aa",
   "metadata": {},
   "source": [
    "Why is eggs a valid variable name while 100 is invalid?"
   ]
  },
  {
   "cell_type": "markdown",
   "id": "3ae47f74",
   "metadata": {},
   "source": [
    "Answer - 8"
   ]
  },
  {
   "cell_type": "markdown",
   "id": "9660de87",
   "metadata": {},
   "source": [
    "Eggs a valid variable name while 100 is invalid because Variable can be egg =100 but 100 = egg is not a variable ( variable name not starts with integer)."
   ]
  },
  {
   "cell_type": "markdown",
   "id": "18dcd564",
   "metadata": {},
   "source": [
    "Question - 9"
   ]
  },
  {
   "cell_type": "markdown",
   "id": "aca31f7e",
   "metadata": {},
   "source": [
    "What three functions can be used to get the integer, floating-point number, or string version of a value?"
   ]
  },
  {
   "cell_type": "markdown",
   "id": "fb208b10",
   "metadata": {},
   "source": [
    "Answer - 9"
   ]
  },
  {
   "cell_type": "markdown",
   "id": "1dc5a590",
   "metadata": {},
   "source": [
    "Str()\n",
    "\n",
    "Int()\n",
    "\n",
    "Float()"
   ]
  },
  {
   "cell_type": "markdown",
   "id": "0a94300c",
   "metadata": {},
   "source": [
    "Question - 10"
   ]
  },
  {
   "cell_type": "markdown",
   "id": "841018f6",
   "metadata": {},
   "source": [
    "Why does this expression cause an error? How can you fix it?\n",
    "'I have eaten ' + 99 + ' burritos.'"
   ]
  },
  {
   "cell_type": "markdown",
   "id": "24a85143",
   "metadata": {},
   "source": [
    "Answer - 10"
   ]
  },
  {
   "cell_type": "markdown",
   "id": "673e7092",
   "metadata": {},
   "source": [
    "By making 99 as string"
   ]
  },
  {
   "cell_type": "code",
   "execution_count": 12,
   "id": "2686d009",
   "metadata": {},
   "outputs": [
    {
     "data": {
      "text/plain": [
       "'I have eaten99 burritos'"
      ]
     },
     "execution_count": 12,
     "metadata": {},
     "output_type": "execute_result"
    }
   ],
   "source": [
    "'I have eaten' + '99' + ' burritos'"
   ]
  }
 ],
 "metadata": {
  "kernelspec": {
   "display_name": "Python 3",
   "language": "python",
   "name": "python3"
  },
  "language_info": {
   "codemirror_mode": {
    "name": "ipython",
    "version": 3
   },
   "file_extension": ".py",
   "mimetype": "text/x-python",
   "name": "python",
   "nbconvert_exporter": "python",
   "pygments_lexer": "ipython3",
   "version": "3.8.8"
  }
 },
 "nbformat": 4,
 "nbformat_minor": 5
}
